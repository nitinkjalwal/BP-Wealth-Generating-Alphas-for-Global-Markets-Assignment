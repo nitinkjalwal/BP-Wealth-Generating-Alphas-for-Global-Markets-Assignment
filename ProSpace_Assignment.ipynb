{
  "nbformat": 4,
  "nbformat_minor": 0,
  "metadata": {
    "colab": {
      "provenance": []
    },
    "kernelspec": {
      "name": "python3",
      "display_name": "Python 3"
    },
    "language_info": {
      "name": "python"
    }
  },
  "cells": [
    {
      "cell_type": "markdown",
      "source": [
        "# Task 1 : Static Thresholds"
      ],
      "metadata": {
        "id": "zFdxG5iwlvpb"
      }
    },
    {
      "cell_type": "code",
      "source": [
        "import pandas as pd\n",
        "import numpy as np\n",
        "\n",
        "class TradingStrategy:\n",
        "    def __init__(self, build_threshold, liquidate_threshold):\n",
        "        self.build_threshold = build_threshold\n",
        "        self.liquidate_threshold = liquidate_threshold\n",
        "\n",
        "    def generate_positions(self, data):\n",
        "        positions = []\n",
        "        current_position = 0\n",
        "\n",
        "        for alpha in data['alpha']:\n",
        "            if current_position == 0:\n",
        "                if alpha >= self.build_threshold:\n",
        "                    current_position = 1  # Buy\n",
        "                elif alpha <= -self.build_threshold:\n",
        "                    current_position = -1  # Sell\n",
        "            elif current_position == 1:\n",
        "                if alpha <= self.liquidate_threshold:\n",
        "                    current_position = 0  # Liquidate\n",
        "            elif current_position == -1:\n",
        "                if alpha >= -self.liquidate_threshold:\n",
        "                    current_position = 0  # Liquidate\n",
        "\n",
        "            positions.append(current_position)\n",
        "\n",
        "        data['position'] = positions\n",
        "        return data\n",
        "\n",
        "# Load the dataset\n",
        "file_path = '/content/asset_1.csv'\n",
        "data = pd.read_csv(file_path)\n",
        "\n",
        "# Define fixed thresholds\n",
        "build_threshold = 0.6\n",
        "liquidate_threshold = 0.2\n",
        "\n",
        "# Create and apply strategy\n",
        "strategy = TradingStrategy(build_threshold, liquidate_threshold)\n",
        "data_with_positions = strategy.generate_positions(data)\n",
        "\n",
        "# Store the updated data\n",
        "output_file_path = '/content/updated_asset_1.csv'\n",
        "data_with_positions.to_csv(output_file_path, index=False)\n",
        "\n",
        "# Display the first few rows of the updated dataset\n",
        "print(data_with_positions.head())"
      ],
      "metadata": {
        "colab": {
          "base_uri": "https://localhost:8080/"
        },
        "id": "tYSuqqAhvlo9",
        "outputId": "fd6e944f-43c9-4cc0-a9a3-93bbdcb20a9d"
      },
      "execution_count": 21,
      "outputs": [
        {
          "output_type": "stream",
          "name": "stdout",
          "text": [
            "   serial_num         price     alpha  position\n",
            "0           0  18105.300781  0.000000         0\n",
            "1           1  18398.960605 -0.630291        -1\n",
            "2           2  18204.939538 -0.123420         0\n",
            "3           3  18339.357782 -0.240239         0\n",
            "4           4  18578.084798 -0.612625        -1\n"
          ]
        }
      ]
    },
    {
      "cell_type": "markdown",
      "source": [
        "# Task 2: Backtesting Engine\n"
      ],
      "metadata": {
        "id": "ZDilg6FaqWTp"
      }
    },
    {
      "cell_type": "code",
      "source": [
        "class BacktestEngine:\n",
        "    def __init__(self, data, strategy):\n",
        "        self.data = data\n",
        "        self.strategy = strategy\n",
        "\n",
        "    def run_backtest(self):\n",
        "        data_with_positions = self.strategy.generate_positions(self.data.copy())\n",
        "        cash = 0\n",
        "        position = 0\n",
        "        entry_price = 0\n",
        "        pnl = []\n",
        "\n",
        "        for index, row in data_with_positions.iterrows():\n",
        "            current_price = row['price']\n",
        "            current_position = row['position']\n",
        "\n",
        "            if position == 0:\n",
        "                if current_position != 0:\n",
        "                    position = current_position\n",
        "                    entry_price = current_price\n",
        "            else:\n",
        "                if current_position == 0:\n",
        "                    cash += position * (current_price - entry_price)\n",
        "                    position = 0\n",
        "                elif position != current_position:\n",
        "                    cash += position * (current_price - entry_price)\n",
        "                    position = current_position\n",
        "                    entry_price = current_price\n",
        "\n",
        "            pnl.append(cash)\n",
        "\n",
        "        data_with_positions['pnl'] = pnl\n",
        "        return cash, data_with_positions\n",
        "\n",
        "# Load the dataset\n",
        "file_path = '/content/asset_1.csv'\n",
        "data = pd.read_csv(file_path)\n",
        "\n",
        "# Define fixed thresholds\n",
        "build_threshold = 0.6\n",
        "liquidate_threshold = 0.2\n",
        "\n",
        "# Create strategy and backtest engine\n",
        "strategy = TradingStrategy(build_threshold, liquidate_threshold)\n",
        "engine = BacktestEngine(data, strategy)\n",
        "\n",
        "# Run backtest\n",
        "final_pnl, data_with_pnl = engine.run_backtest()\n",
        "\n",
        "# Save the updated data\n",
        "output_file_path = '/content/pnl_asset_1.csv'\n",
        "data_with_pnl.to_csv(output_file_path, index=False)\n",
        "\n",
        "# Display the final P&L and the first few rows of the updated dataset\n",
        "print(\"Final P&L:\", final_pnl)\n",
        "print(data_with_pnl.head())\n"
      ],
      "metadata": {
        "colab": {
          "base_uri": "https://localhost:8080/"
        },
        "id": "Ft6UaPU5v64M",
        "outputId": "c4d47fcc-55de-4dfa-f0ad-5d182c39558c"
      },
      "execution_count": 20,
      "outputs": [
        {
          "output_type": "stream",
          "name": "stdout",
          "text": [
            "Final P&L: 26250.881404344847\n",
            "   serial_num         price     alpha  position         pnl\n",
            "0           0  18105.300781  0.000000         0    0.000000\n",
            "1           1  18398.960605 -0.630291        -1    0.000000\n",
            "2           2  18204.939538 -0.123420         0  194.021067\n",
            "3           3  18339.357782 -0.240239         0  194.021067\n",
            "4           4  18578.084798 -0.612625        -1  194.021067\n"
          ]
        }
      ]
    },
    {
      "cell_type": "markdown",
      "source": [
        "# Task 3 : Optimizing Thresholds"
      ],
      "metadata": {
        "id": "O0hA6tYUqwLg"
      }
    },
    {
      "cell_type": "code",
      "source": [
        "def optimize_thresholds(data, build_range, liquidate_range):\n",
        "    best_pnl = -np.inf\n",
        "    best_build_threshold = None\n",
        "    best_liquidate_threshold = None\n",
        "\n",
        "    for build_threshold in build_range:\n",
        "        for liquidate_threshold in liquidate_range:\n",
        "            strategy = TradingStrategy(build_threshold, liquidate_threshold)\n",
        "            engine = BacktestEngine(data, strategy)\n",
        "            pnl, _ = engine.run_backtest()\n",
        "\n",
        "            if pnl > best_pnl:\n",
        "                best_pnl = pnl\n",
        "                best_build_threshold = build_threshold\n",
        "                best_liquidate_threshold = liquidate_threshold\n",
        "\n",
        "    return best_pnl, best_build_threshold, best_liquidate_threshold\n",
        "\n",
        "# Define threshold ranges to test\n",
        "build_threshold_range = np.arange(0.1, 1.0, 0.1)\n",
        "liquidate_threshold_range = np.arange(0.1, 1.0, 0.1)\n",
        "\n",
        "# Find optimal thresholds\n",
        "best_pnl, best_build_threshold, best_liquidate_threshold = optimize_thresholds(data, build_threshold_range, liquidate_threshold_range)\n",
        "\n",
        "# Display the results\n",
        "print(f\"Best P&L: {best_pnl}\")\n",
        "print(f\"Best Build Threshold: {best_build_threshold}\")\n",
        "print(f\"Best Liquidate Threshold: {best_liquidate_threshold}\")\n"
      ],
      "metadata": {
        "colab": {
          "base_uri": "https://localhost:8080/"
        },
        "id": "uC01w4-aqzuX",
        "outputId": "ba3caf97-65cf-4b20-8a79-ee056cb4d509"
      },
      "execution_count": 15,
      "outputs": [
        {
          "output_type": "stream",
          "name": "stdout",
          "text": [
            "Best P&L: 30376.675024315406\n",
            "Best Build Threshold: 0.2\n",
            "Best Liquidate Threshold: 0.1\n"
          ]
        }
      ]
    }
  ]
}